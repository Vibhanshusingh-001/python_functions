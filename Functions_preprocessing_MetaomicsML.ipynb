{
 "cells": [
  {
   "cell_type": "code",
   "execution_count": 1,
   "id": "8f60338c",
   "metadata": {},
   "outputs": [
    {
     "name": "stdout",
     "output_type": "stream",
     "text": [
      "hello\n"
     ]
    }
   ],
   "source": [
    "print(\"hello\")"
   ]
  },
  {
   "cell_type": "code",
   "execution_count": 2,
   "id": "8690fbd6",
   "metadata": {},
   "outputs": [
    {
     "name": "stdout",
     "output_type": "stream",
     "text": [
      "0    0.12\n",
      "1    0.34\n",
      "2    0.56\n",
      "dtype: float64\n"
     ]
    }
   ],
   "source": [
    "import pandas as pd\n",
    "\n",
    "# Sample dataframe\n",
    "out_df = pd.DataFrame({'name': ['geneA', 'geneB', 'geneC']})\n",
    "imp_col = pd.Series([0.12, 0.34, 0.56])\n",
    "\n",
    "# Before\n",
    "print(imp_col)\n",
    "\n"
   ]
  },
  {
   "cell_type": "code",
   "execution_count": 3,
   "id": "e92729ff",
   "metadata": {},
   "outputs": [
    {
     "name": "stdout",
     "output_type": "stream",
     "text": [
      "geneA    0.12\n",
      "geneB    0.34\n",
      "geneC    0.56\n",
      "dtype: float64\n"
     ]
    }
   ],
   "source": [
    "\n",
    "# Assign new index\n",
    "imp_col.index = out_df['name'].values\n",
    "\n",
    "# After\n",
    "print(imp_col)\n",
    "\n"
   ]
  },
  {
   "cell_type": "code",
   "execution_count": 4,
   "id": "d434b6e4",
   "metadata": {},
   "outputs": [
    {
     "name": "stdout",
     "output_type": "stream",
     "text": [
      "   apple.bracken.out_num  banana.bracken.out_num  cherry.bracken.out_num\n",
      "0                      1                       4                       7\n",
      "1                      2                       5                       8\n",
      "2                      3                       6                       9\n"
     ]
    }
   ],
   "source": [
    "import pandas as pd\n",
    "\n",
    "# Create a DataFrame with long column names\n",
    "brack_df = pd.DataFrame({\n",
    "    \"apple.bracken.out_num\": [1, 2, 3],\n",
    "    \"banana.bracken.out_num\": [4, 5, 6],\n",
    "    \"cherry.bracken.out_num\": [7, 8, 9]\n",
    "})\n",
    "\n",
    "print(brack_df)\n",
    "\n",
    "\n"
   ]
  },
  {
   "cell_type": "code",
   "execution_count": 5,
   "id": "0710046a",
   "metadata": {},
   "outputs": [
    {
     "name": "stdout",
     "output_type": "stream",
     "text": [
      "0  apple  banana  cherry\n",
      "0      1       4       7\n",
      "1      2       5       8\n",
      "2      3       6       9\n"
     ]
    }
   ],
   "source": [
    "# Apply your function\n",
    "brack_df.columns = brack_df.columns.str.extract(r'([^\\.]+)\\.bracken\\.out_num')[0] #.str.extract(pattern)\n",
    "\n",
    "print( brack_df)"
   ]
  },
  {
   "cell_type": "code",
   "execution_count": 6,
   "id": "780df3ce",
   "metadata": {},
   "outputs": [
    {
     "name": "stdout",
     "output_type": "stream",
     "text": [
      "[1 2 3 4]\n",
      "3\n"
     ]
    }
   ],
   "source": [
    "import numpy as np\n",
    "\n",
    "arr = np.array([1, 2, 3, 4])\n",
    "print(arr)       \n",
    "print(arr[2])   \n",
    "\n",
    "\n"
   ]
  },
  {
   "cell_type": "code",
   "execution_count": 7,
   "id": "f15802fb",
   "metadata": {},
   "outputs": [
    {
     "name": "stdout",
     "output_type": "stream",
     "text": [
      "[[1 2]\n",
      " [3 4]]\n"
     ]
    }
   ],
   "source": [
    "# 2D NumPy array (matrix)\n",
    "matrix = np.array([[1, 2], [3, 4]])\n",
    "print(matrix)\n"
   ]
  },
  {
   "cell_type": "code",
   "execution_count": 8,
   "id": "e3280992",
   "metadata": {},
   "outputs": [
    {
     "data": {
      "text/plain": [
       "10"
      ]
     },
     "execution_count": 8,
     "metadata": {},
     "output_type": "execute_result"
    }
   ],
   "source": [
    "a=5*2\n",
    "a"
   ]
  },
  {
   "cell_type": "code",
   "execution_count": 9,
   "id": "197941a3",
   "metadata": {},
   "outputs": [
    {
     "data": {
      "text/plain": [
       "25"
      ]
     },
     "execution_count": 9,
     "metadata": {},
     "output_type": "execute_result"
    }
   ],
   "source": [
    "a=5**2\n",
    "a"
   ]
  },
  {
   "cell_type": "code",
   "execution_count": 10,
   "id": "1dc57945",
   "metadata": {},
   "outputs": [
    {
     "name": "stdout",
     "output_type": "stream",
     "text": [
      "   Unnamed: 0     Name  Score\n",
      "0           1    Alice     85\n",
      "1           2      Bob     92\n",
      "2           3  Charlie     78\n"
     ]
    }
   ],
   "source": [
    "import pandas as pd\n",
    "\n",
    "# Example DataFrame with a bad column name\n",
    "students = pd.DataFrame({\n",
    "    \"Unnamed: 0\": [1, 2, 3],\n",
    "    \"Name\": [\"Alice\", \"Bob\", \"Charlie\"],\n",
    "    \"Score\": [85, 92, 78]\n",
    "})\n",
    "\n",
    "print( students)\n",
    "\n",
    "\n"
   ]
  },
  {
   "cell_type": "code",
   "execution_count": 11,
   "id": "cf9c7a12",
   "metadata": {},
   "outputs": [
    {
     "name": "stdout",
     "output_type": "stream",
     "text": [
      "After renaming:\n",
      "    StudentID     Name  Score\n",
      "0          1    Alice     85\n",
      "1          2      Bob     92\n",
      "2          3  Charlie     78\n"
     ]
    }
   ],
   "source": [
    "# Rename the 'Unnamed: 0' column to 'StudentID'\n",
    "students = students.rename(columns={\"Unnamed: 0\": \"StudentID\"})\n",
    "\n",
    "print(\"After renaming:\\n\", students.head())"
   ]
  },
  {
   "cell_type": "code",
   "execution_count": 12,
   "id": "904999e3",
   "metadata": {},
   "outputs": [
    {
     "name": "stdout",
     "output_type": "stream",
     "text": [
      "Original DataFrame:\n",
      "       Name  Math  Science\n",
      "0    Alice    85       90\n",
      "1      Bob    92       88\n",
      "2  Charlie    78       82 \n",
      "\n"
     ]
    }
   ],
   "source": [
    "import pandas as pd\n",
    "\n",
    "# Wide format (students and their scores)\n",
    "df = pd.DataFrame({\n",
    "    \"Name\": [\"Alice\", \"Bob\", \"Charlie\"],\n",
    "    \"Math\": [85, 92, 78],\n",
    "    \"Science\": [90, 88, 82]\n",
    "})\n",
    "\n",
    "print(\"Original DataFrame:\\n\", df, \"\\n\")\n"
   ]
  },
  {
   "cell_type": "code",
   "execution_count": 13,
   "id": "a0dd6737",
   "metadata": {},
   "outputs": [
    {
     "name": "stdout",
     "output_type": "stream",
     "text": [
      "After melt:\n",
      "       Name  Subject  Score\n",
      "0    Alice     Math     85\n",
      "1      Bob     Math     92\n",
      "2  Charlie     Math     78\n",
      "3    Alice  Science     90\n",
      "4      Bob  Science     88\n",
      "5  Charlie  Science     82\n"
     ]
    }
   ],
   "source": [
    "\n",
    "# Melt the DataFrame\n",
    "melted = pd.melt(df, id_vars=[\"Name\"], var_name=\"Subject\", value_name=\"Score\")\n",
    "\n",
    "print(\"After melt:\\n\", melted)\n"
   ]
  },
  {
   "cell_type": "code",
   "execution_count": 14,
   "id": "56d76ddf",
   "metadata": {},
   "outputs": [
    {
     "name": "stdout",
     "output_type": "stream",
     "text": [
      "With Name as index:\n",
      "          Math  Science\n",
      "Name                  \n",
      "Alice      85       90\n",
      "Bob        92       88\n",
      "Charlie    78       82 \n",
      "\n"
     ]
    }
   ],
   "source": [
    "# Set \"Name\" as index\n",
    "df = df.set_index(\"Name\")\n",
    "print(\"With Name as index:\\n\", df, \"\\n\")\n"
   ]
  },
  {
   "cell_type": "code",
   "execution_count": 15,
   "id": "79dacb30",
   "metadata": {},
   "outputs": [
    {
     "name": "stdout",
     "output_type": "stream",
     "text": [
      "After reset_index:\n",
      "       Name  Math  Science\n",
      "0    Alice    85       90\n",
      "1      Bob    92       88\n",
      "2  Charlie    78       82\n"
     ]
    }
   ],
   "source": [
    "\n",
    "# Reset the index\n",
    "reset_df = df.reset_index()\n",
    "print(\"After reset_index:\\n\", reset_df)\n"
   ]
  },
  {
   "cell_type": "code",
   "execution_count": 16,
   "id": "4cc83630",
   "metadata": {},
   "outputs": [],
   "source": [
    "#pd.merge() joins two DataFrames.\n",
    "\n",
    "#left_on and right_on tell pandas which columns to use for matching"
   ]
  },
  {
   "cell_type": "code",
   "execution_count": 18,
   "id": "f3acbd68",
   "metadata": {},
   "outputs": [
    {
     "data": {
      "text/html": [
       "<div>\n",
       "<style scoped>\n",
       "    .dataframe tbody tr th:only-of-type {\n",
       "        vertical-align: middle;\n",
       "    }\n",
       "\n",
       "    .dataframe tbody tr th {\n",
       "        vertical-align: top;\n",
       "    }\n",
       "\n",
       "    .dataframe thead th {\n",
       "        text-align: right;\n",
       "    }\n",
       "</style>\n",
       "<table border=\"1\" class=\"dataframe\">\n",
       "  <thead>\n",
       "    <tr style=\"text-align: right;\">\n",
       "      <th></th>\n",
       "      <th>Math</th>\n",
       "      <th>Science</th>\n",
       "    </tr>\n",
       "    <tr>\n",
       "      <th>Name</th>\n",
       "      <th></th>\n",
       "      <th></th>\n",
       "    </tr>\n",
       "  </thead>\n",
       "  <tbody>\n",
       "    <tr>\n",
       "      <th>Alice</th>\n",
       "      <td>85</td>\n",
       "      <td>90</td>\n",
       "    </tr>\n",
       "    <tr>\n",
       "      <th>Bob</th>\n",
       "      <td>92</td>\n",
       "      <td>88</td>\n",
       "    </tr>\n",
       "    <tr>\n",
       "      <th>Charlie</th>\n",
       "      <td>78</td>\n",
       "      <td>82</td>\n",
       "    </tr>\n",
       "  </tbody>\n",
       "</table>\n",
       "</div>"
      ],
      "text/plain": [
       "         Math  Science\n",
       "Name                  \n",
       "Alice      85       90\n",
       "Bob        92       88\n",
       "Charlie    78       82"
      ]
     },
     "execution_count": 18,
     "metadata": {},
     "output_type": "execute_result"
    }
   ],
   "source": [
    "df"
   ]
  },
  {
   "cell_type": "code",
   "execution_count": 17,
   "id": "518683bc",
   "metadata": {},
   "outputs": [
    {
     "data": {
      "text/html": [
       "<div>\n",
       "<style scoped>\n",
       "    .dataframe tbody tr th:only-of-type {\n",
       "        vertical-align: middle;\n",
       "    }\n",
       "\n",
       "    .dataframe tbody tr th {\n",
       "        vertical-align: top;\n",
       "    }\n",
       "\n",
       "    .dataframe thead th {\n",
       "        text-align: right;\n",
       "    }\n",
       "</style>\n",
       "<table border=\"1\" class=\"dataframe\">\n",
       "  <thead>\n",
       "    <tr style=\"text-align: right;\">\n",
       "      <th></th>\n",
       "      <th>variable</th>\n",
       "      <th>value</th>\n",
       "    </tr>\n",
       "  </thead>\n",
       "  <tbody>\n",
       "    <tr>\n",
       "      <th>0</th>\n",
       "      <td>Math</td>\n",
       "      <td>85</td>\n",
       "    </tr>\n",
       "    <tr>\n",
       "      <th>1</th>\n",
       "      <td>Math</td>\n",
       "      <td>92</td>\n",
       "    </tr>\n",
       "    <tr>\n",
       "      <th>2</th>\n",
       "      <td>Math</td>\n",
       "      <td>78</td>\n",
       "    </tr>\n",
       "    <tr>\n",
       "      <th>3</th>\n",
       "      <td>Science</td>\n",
       "      <td>90</td>\n",
       "    </tr>\n",
       "    <tr>\n",
       "      <th>4</th>\n",
       "      <td>Science</td>\n",
       "      <td>88</td>\n",
       "    </tr>\n",
       "    <tr>\n",
       "      <th>5</th>\n",
       "      <td>Science</td>\n",
       "      <td>82</td>\n",
       "    </tr>\n",
       "  </tbody>\n",
       "</table>\n",
       "</div>"
      ],
      "text/plain": [
       "  variable  value\n",
       "0     Math     85\n",
       "1     Math     92\n",
       "2     Math     78\n",
       "3  Science     90\n",
       "4  Science     88\n",
       "5  Science     82"
      ]
     },
     "execution_count": 17,
     "metadata": {},
     "output_type": "execute_result"
    }
   ],
   "source": [
    "pd.melt(df, \n",
    "        id_vars=None, \n",
    "        value_vars=None, \n",
    "        var_name=None, \n",
    "        value_name=\"value\")\n"
   ]
  },
  {
   "cell_type": "markdown",
   "id": "7d344b91",
   "metadata": {},
   "source": [
    "frame → DataFrame you want to reshape.\n",
    "\n",
    "id_vars → Columns that should be kept fixed (identifier variables).\n",
    "\n",
    "value_vars → Columns that should be unpivoted into rows.\n",
    "\n",
    "var_name → Name for the new “variable” column (default: variable).\n",
    "\n",
    "value_name → Name for the new “value” column (default: value)."
   ]
  },
  {
   "cell_type": "code",
   "execution_count": null,
   "id": "7aa7c5fa",
   "metadata": {},
   "outputs": [],
   "source": [
    "pd.pivot_table(df,\n",
    "               values=None,\n",
    "               index=None,\n",
    "               columns=None,\n",
    "               aggfunc='mean',\n",
    "               fill_value=None,\n",
    "               margins=False,\n",
    "               dropna=True)\n"
   ]
  },
  {
   "cell_type": "markdown",
   "id": "dd9047ea",
   "metadata": {},
   "source": [
    "data → DataFrame.\n",
    "\n",
    "values → Column(s) to aggregate.\n",
    "\n",
    "index → Column(s) to use as rows.\n",
    "\n",
    "columns → Column(s) to use as new columns.\n",
    "\n",
    "aggfunc → Aggregation function (mean, sum, count, max, etc.).\n",
    "\n",
    "fill_value → Replace missing values (NaN).\n",
    "\n",
    "margins=True → Adds totals (like Excel’s “Grand Total”)."
   ]
  },
  {
   "cell_type": "code",
   "execution_count": 19,
   "id": "981bc834",
   "metadata": {},
   "outputs": [
    {
     "name": "stdout",
     "output_type": "stream",
     "text": [
      "Original DataFrame:\n",
      "   Name  Subject  Score\n",
      "0    A     Math     90\n",
      "1    A  Science     88\n",
      "2    B     Math     80\n",
      "3    B  Science     92\n",
      "4    C     Math     85\n",
      "5    C  Science     95\n"
     ]
    }
   ],
   "source": [
    "import pandas as pd\n",
    "\n",
    "# Sample dataset\n",
    "data = {\n",
    "    \"Name\": [\"A\", \"A\", \"B\", \"B\", \"C\", \"C\"],\n",
    "    \"Subject\": [\"Math\", \"Science\", \"Math\", \"Science\", \"Math\", \"Science\"],\n",
    "    \"Score\": [90, 88, 80, 92, 85, 95]\n",
    "}\n",
    "\n",
    "df = pd.DataFrame(data)\n",
    "print(\"Original DataFrame:\\n\", df)\n",
    "\n",
    "\n"
   ]
  },
  {
   "cell_type": "code",
   "execution_count": null,
   "id": "36f0cedb",
   "metadata": {},
   "outputs": [
    {
     "name": "stdout",
     "output_type": "stream",
     "text": [
      "\n",
      "Pivot Table:\n",
      " Subject  Math  Science\n",
      "Name                  \n",
      "A        90.0     88.0\n",
      "B        80.0     92.0\n",
      "C        85.0     95.0\n"
     ]
    }
   ],
   "source": [
    "# Create pivot table\n",
    "pivot = pd.pivot_table(df, \n",
    "                       values=\"Score\", \n",
    "                       index=\"Name\", \n",
    "                       columns=\"Subject\", \n",
    "                       aggfunc=\"mean\")\n",
    "\n",
    "print(\"\\nPivot Table:\\n\", pivot)"
   ]
  },
  {
   "cell_type": "code",
   "execution_count": null,
   "id": "5227c224",
   "metadata": {},
   "outputs": [],
   "source": [
    "# DataFrame.join(other, \n",
    "#                on=None, \n",
    "#                how='left', \n",
    "#                lsuffix='', \n",
    "#                rsuffix='', \n",
    "#                sort=False)\n",
    "\n",
    "\n",
    "# other → DataFrame, Series, or list of DataFrames to join.\n",
    "\n",
    "# on → Column name to join on (instead of index).\n",
    "\n",
    "# how → Type of join ('left' (default), 'right', 'outer', 'inner').\n",
    "\n",
    "# lsuffix / rsuffix → Add suffixes if there are overlapping column names.\n",
    "\n",
    "# sort → Whether to sort the index after join.\n"
   ]
  },
  {
   "cell_type": "code",
   "execution_count": 21,
   "id": "7f501962",
   "metadata": {},
   "outputs": [
    {
     "name": "stdout",
     "output_type": "stream",
     "text": [
      "df1:\n",
      "   Name  Age\n",
      "1    A   20\n",
      "2    B   21\n",
      "3    C   19\n",
      "\n",
      "df2:\n",
      "    Score\n",
      "1     90\n",
      "2     80\n",
      "3     85\n",
      "\n",
      "Joined DataFrame:\n",
      "   Name  Age  Score\n",
      "1    A   20     90\n",
      "2    B   21     80\n",
      "3    C   19     85\n"
     ]
    }
   ],
   "source": [
    "import pandas as pd\n",
    "\n",
    "# First DataFrame\n",
    "df1 = pd.DataFrame({\n",
    "    \"Name\": [\"A\", \"B\", \"C\"],\n",
    "    \"Age\": [20, 21, 19]\n",
    "}, index=[1, 2, 3])\n",
    "\n",
    "# Second DataFrame\n",
    "df2 = pd.DataFrame({\n",
    "    \"Score\": [90, 80, 85]\n",
    "}, index=[1, 2, 3])\n",
    "\n",
    "print(\"df1:\\n\", df1)\n",
    "print(\"\\ndf2:\\n\", df2)\n",
    "\n",
    "# Join df2 to df1 (by index)\n",
    "result = df1.join(df2)\n",
    "print(\"\\nJoined DataFrame:\\n\", result)\n"
   ]
  },
  {
   "cell_type": "code",
   "execution_count": 1,
   "id": "1acf1801",
   "metadata": {},
   "outputs": [
    {
     "name": "stdout",
     "output_type": "stream",
     "text": [
      "Index(['Name', 'Age', 'Score'], dtype='object')\n",
      "['Name', 'Age', 'Score']\n"
     ]
    }
   ],
   "source": [
    "# Returns the column names of a DataFrame as a **Python list**.\n",
    "import pandas as pd\n",
    "\n",
    "df = pd.DataFrame({\n",
    "    \"Name\": [\"A\", \"B\", \"C\"],\n",
    "    \"Age\": [20, 21, 19],\n",
    "    \"Score\": [90, 85, 88]\n",
    "})\n",
    "\n",
    "print(df.columns)          # Index(['Name', 'Age', 'Score'], dtype='object')\n",
    "print(df.columns.tolist()) # ['Name', 'Age', 'Score']"
   ]
  },
  {
   "cell_type": "code",
   "execution_count": null,
   "id": "0adc8924",
   "metadata": {},
   "outputs": [
    {
     "name": "stdout",
     "output_type": "stream",
     "text": [
      "Index(['Age', 'Score'], dtype='object')\n"
     ]
    }
   ],
   "source": [
    "\n",
    "\n",
    "# What it does: Returns the set difference of column names compared to another list or Index.\n",
    "# Very handy when you want to exclude certain columns.\n",
    "\n",
    "exclude = [\"Name\"]\n",
    "\n",
    "print(df.columns.difference(exclude))  \n",
    "# Output: Index(['Age', 'Score'], dtype='object')"
   ]
  },
  {
   "cell_type": "code",
   "execution_count": null,
   "id": "3e0ef043",
   "metadata": {},
   "outputs": [
    {
     "name": "stdout",
     "output_type": "stream",
     "text": [
      "  Name  Age\n",
      "0    A   20\n",
      "1    B   21\n",
      "2    C   19\n"
     ]
    }
   ],
   "source": [
    "# 3️⃣ .append()\n",
    "\n",
    "# Note: In new versions of pandas (≥ 2.0), `.append()` is deprecated. Instead, use pd.concat()\n",
    "\n",
    "#What it did:Used to append rows of another DataFrame (like stacking).\n",
    "\n",
    "\n",
    "df1 = pd.DataFrame({\"Name\": [\"A\", \"B\"], \"Age\": [20, 21]})\n",
    "df2 = pd.DataFrame({\"Name\": [\"C\"], \"Age\": [19]})\n",
    "\n",
    "# Old way (deprecated):\n",
    "# df3 = df1.append(df2)\n",
    "\n",
    "# New recommended way:\n",
    "df3 = pd.concat([df1, df2], ignore_index=True)\n",
    "\n",
    "print(df3)"
   ]
  },
  {
   "cell_type": "code",
   "execution_count": 4,
   "id": "2886b90e",
   "metadata": {},
   "outputs": [
    {
     "name": "stdout",
     "output_type": "stream",
     "text": [
      "Name\n",
      "A    89.0\n",
      "B    86.0\n",
      "C    85.0\n",
      "Name: Score, dtype: float64\n"
     ]
    }
   ],
   "source": [
    "# 4️⃣ .groupby()\n",
    "\n",
    "#What it does: Groups the DataFrame based on one or more columns and allows you to apply aggregation functions (`mean`, `sum`, `count`, etc.).\n",
    "\n",
    "data = {\n",
    "    \"Name\": [\"A\", \"A\", \"B\", \"B\", \"C\"],\n",
    "    \"Subject\": [\"Math\", \"Science\", \"Math\", \"Science\", \"Math\"],\n",
    "    \"Score\": [90, 88, 80, 92, 85]\n",
    "}\n",
    "df = pd.DataFrame(data)\n",
    "\n",
    "# Group by Name and calculate mean score\n",
    "print(df.groupby(\"Name\")[\"Score\"].mean())"
   ]
  },
  {
   "cell_type": "markdown",
   "id": "86a37c1a",
   "metadata": {},
   "source": [
    "The get_dummies() function is used for one-hot encoding categorical variables.\n",
    "It converts categorical (string or object) values into binary columns (0/1) so that they can be used in machine learning models.\n",
    "\n",
    "\n",
    "pd.get_dummies(data, \n",
    "               prefix=None, \n",
    "               prefix_sep=\"_\", \n",
    "               columns=None, \n",
    "               drop_first=False, \n",
    "               dtype=int)\n",
    "Parameters\n",
    "data → DataFrame or Series.\n",
    "\n",
    "prefix → String to add before column names (optional).\n",
    "\n",
    "prefix_sep → Separator between prefix and category name (default _).\n",
    "\n",
    "columns → Which columns to encode (if None, all categorical columns).\n",
    "\n",
    "drop_first → If True, drops the first category (avoids multicollinearity).\n",
    "\n",
    "dtype → Type for new columns (default uint8 or int)."
   ]
  },
  {
   "cell_type": "code",
   "execution_count": 1,
   "id": "4a3c6a2f",
   "metadata": {},
   "outputs": [
    {
     "name": "stdout",
     "output_type": "stream",
     "text": [
      "Original DataFrame:\n",
      "   Name    City\n",
      "0    A   Delhi\n",
      "1    B  Mumbai\n",
      "2    C   Delhi\n",
      "\n",
      "Encoded DataFrame:\n",
      "   Name  City_Delhi  City_Mumbai\n",
      "0    A        True        False\n",
      "1    B       False         True\n",
      "2    C        True        False\n"
     ]
    }
   ],
   "source": [
    "import pandas as pd\n",
    "\n",
    "df = pd.DataFrame({\n",
    "    \"Name\": [\"A\", \"B\", \"C\"],\n",
    "    \"City\": [\"Delhi\", \"Mumbai\", \"Delhi\"]\n",
    "})\n",
    "\n",
    "print(\"Original DataFrame:\\n\", df)\n",
    "\n",
    "# Apply get_dummies\n",
    "encoded = pd.get_dummies(df, columns=[\"City\"])\n",
    "print(\"\\nEncoded DataFrame:\\n\", encoded)\n"
   ]
  },
  {
   "cell_type": "code",
   "execution_count": null,
   "id": "d7e8485d",
   "metadata": {},
   "outputs": [],
   "source": []
  },
  {
   "cell_type": "code",
   "execution_count": null,
   "id": "81af946f",
   "metadata": {},
   "outputs": [],
   "source": []
  },
  {
   "cell_type": "code",
   "execution_count": null,
   "id": "ff5ea3e2",
   "metadata": {},
   "outputs": [],
   "source": []
  },
  {
   "cell_type": "markdown",
   "id": "6bc6a0d7",
   "metadata": {},
   "source": []
  },
  {
   "cell_type": "code",
   "execution_count": null,
   "id": "091c3ea5",
   "metadata": {},
   "outputs": [],
   "source": []
  },
  {
   "cell_type": "code",
   "execution_count": null,
   "id": "61fd61a2",
   "metadata": {},
   "outputs": [],
   "source": []
  },
  {
   "cell_type": "code",
   "execution_count": null,
   "id": "369f19ca",
   "metadata": {},
   "outputs": [],
   "source": []
  },
  {
   "cell_type": "code",
   "execution_count": null,
   "id": "92b3b746",
   "metadata": {},
   "outputs": [],
   "source": []
  },
  {
   "cell_type": "code",
   "execution_count": null,
   "id": "03b49a9e",
   "metadata": {},
   "outputs": [],
   "source": []
  },
  {
   "cell_type": "code",
   "execution_count": null,
   "id": "d6dff81b",
   "metadata": {},
   "outputs": [],
   "source": []
  },
  {
   "cell_type": "code",
   "execution_count": null,
   "id": "fc41ce4e",
   "metadata": {},
   "outputs": [],
   "source": []
  },
  {
   "cell_type": "code",
   "execution_count": null,
   "id": "c4050b73",
   "metadata": {},
   "outputs": [],
   "source": []
  },
  {
   "cell_type": "code",
   "execution_count": null,
   "id": "7927919e",
   "metadata": {},
   "outputs": [],
   "source": []
  }
 ],
 "metadata": {
  "kernelspec": {
   "display_name": "Python 3",
   "language": "python",
   "name": "python3"
  },
  "language_info": {
   "codemirror_mode": {
    "name": "ipython",
    "version": 3
   },
   "file_extension": ".py",
   "mimetype": "text/x-python",
   "name": "python",
   "nbconvert_exporter": "python",
   "pygments_lexer": "ipython3",
   "version": "3.12.1"
  }
 },
 "nbformat": 4,
 "nbformat_minor": 5
}
