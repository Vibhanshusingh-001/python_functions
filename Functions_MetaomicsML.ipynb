{
 "cells": [
  {
   "cell_type": "code",
   "execution_count": 2,
   "id": "8f60338c",
   "metadata": {},
   "outputs": [
    {
     "name": "stdout",
     "output_type": "stream",
     "text": [
      "hello\n"
     ]
    }
   ],
   "source": [
    "print(\"hello\")"
   ]
  },
  {
   "cell_type": "code",
   "execution_count": null,
   "id": "8690fbd6",
   "metadata": {},
   "outputs": [
    {
     "name": "stdout",
     "output_type": "stream",
     "text": [
      "0    0.12\n",
      "1    0.34\n",
      "2    0.56\n",
      "dtype: float64\n"
     ]
    }
   ],
   "source": [
    "import pandas as pd\n",
    "\n",
    "# Sample dataframe\n",
    "out_df = pd.DataFrame({'name': ['geneA', 'geneB', 'geneC']})\n",
    "imp_col = pd.Series([0.12, 0.34, 0.56])\n",
    "\n",
    "# Before\n",
    "print(imp_col)\n",
    "\n"
   ]
  },
  {
   "cell_type": "code",
   "execution_count": 5,
   "id": "e92729ff",
   "metadata": {},
   "outputs": [
    {
     "name": "stdout",
     "output_type": "stream",
     "text": [
      "geneA    0.12\n",
      "geneB    0.34\n",
      "geneC    0.56\n",
      "dtype: float64\n"
     ]
    }
   ],
   "source": [
    "\n",
    "# Assign new index\n",
    "imp_col.index = out_df['name'].values\n",
    "\n",
    "# After\n",
    "print(imp_col)\n",
    "\n"
   ]
  },
  {
   "cell_type": "code",
   "execution_count": 7,
   "id": "d434b6e4",
   "metadata": {},
   "outputs": [
    {
     "name": "stdout",
     "output_type": "stream",
     "text": [
      "   apple.bracken.out_num  banana.bracken.out_num  cherry.bracken.out_num\n",
      "0                      1                       4                       7\n",
      "1                      2                       5                       8\n",
      "2                      3                       6                       9\n"
     ]
    }
   ],
   "source": [
    "import pandas as pd\n",
    "\n",
    "# Create a DataFrame with long column names\n",
    "brack_df = pd.DataFrame({\n",
    "    \"apple.bracken.out_num\": [1, 2, 3],\n",
    "    \"banana.bracken.out_num\": [4, 5, 6],\n",
    "    \"cherry.bracken.out_num\": [7, 8, 9]\n",
    "})\n",
    "\n",
    "print(brack_df)\n",
    "\n",
    "\n"
   ]
  },
  {
   "cell_type": "code",
   "execution_count": null,
   "id": "0710046a",
   "metadata": {},
   "outputs": [
    {
     "name": "stdout",
     "output_type": "stream",
     "text": [
      "0  apple  banana  cherry\n",
      "0      1       4       7\n",
      "1      2       5       8\n",
      "2      3       6       9\n"
     ]
    }
   ],
   "source": [
    "# Apply your function\n",
    "brack_df.columns = brack_df.columns.str.extract(r'([^\\.]+)\\.bracken\\.out_num')[0] #.str.extract(pattern)\n",
    "\n",
    "print( brack_df)"
   ]
  },
  {
   "cell_type": "code",
   "execution_count": null,
   "id": "780df3ce",
   "metadata": {},
   "outputs": [
    {
     "name": "stdout",
     "output_type": "stream",
     "text": [
      "[1 2 3 4]\n",
      "3\n"
     ]
    }
   ],
   "source": [
    "import numpy as np\n",
    "\n",
    "arr = np.array([1, 2, 3, 4])\n",
    "print(arr)       \n",
    "print(arr[2])   \n",
    "\n",
    "\n"
   ]
  },
  {
   "cell_type": "code",
   "execution_count": null,
   "id": "f15802fb",
   "metadata": {},
   "outputs": [
    {
     "name": "stdout",
     "output_type": "stream",
     "text": [
      "[[1 2]\n",
      " [3 4]]\n"
     ]
    }
   ],
   "source": [
    "# 2D NumPy array (matrix)\n",
    "matrix = np.array([[1, 2], [3, 4]])\n",
    "print(matrix)\n"
   ]
  },
  {
   "cell_type": "code",
   "execution_count": 14,
   "id": "e3280992",
   "metadata": {},
   "outputs": [
    {
     "data": {
      "text/plain": [
       "10"
      ]
     },
     "execution_count": 14,
     "metadata": {},
     "output_type": "execute_result"
    }
   ],
   "source": [
    "a=5*2\n",
    "a"
   ]
  },
  {
   "cell_type": "code",
   "execution_count": 13,
   "id": "197941a3",
   "metadata": {},
   "outputs": [
    {
     "data": {
      "text/plain": [
       "25"
      ]
     },
     "execution_count": 13,
     "metadata": {},
     "output_type": "execute_result"
    }
   ],
   "source": [
    "a=5**2\n",
    "a"
   ]
  },
  {
   "cell_type": "code",
   "execution_count": 26,
   "id": "1dc57945",
   "metadata": {},
   "outputs": [
    {
     "name": "stdout",
     "output_type": "stream",
     "text": [
      "   Unnamed: 0     Name  Score\n",
      "0           1    Alice     85\n",
      "1           2      Bob     92\n",
      "2           3  Charlie     78\n"
     ]
    }
   ],
   "source": [
    "import pandas as pd\n",
    "\n",
    "# Example DataFrame with a bad column name\n",
    "students = pd.DataFrame({\n",
    "    \"Unnamed: 0\": [1, 2, 3],\n",
    "    \"Name\": [\"Alice\", \"Bob\", \"Charlie\"],\n",
    "    \"Score\": [85, 92, 78]\n",
    "})\n",
    "\n",
    "print( students)\n",
    "\n",
    "\n"
   ]
  },
  {
   "cell_type": "code",
   "execution_count": 27,
   "id": "cf9c7a12",
   "metadata": {},
   "outputs": [
    {
     "name": "stdout",
     "output_type": "stream",
     "text": [
      "After renaming:\n",
      "    StudentID     Name  Score\n",
      "0          1    Alice     85\n",
      "1          2      Bob     92\n",
      "2          3  Charlie     78\n"
     ]
    }
   ],
   "source": [
    "# Rename the 'Unnamed: 0' column to 'StudentID'\n",
    "students = students.rename(columns={\"Unnamed: 0\": \"StudentID\"})\n",
    "\n",
    "print(\"After renaming:\\n\", students.head())"
   ]
  },
  {
   "cell_type": "code",
   "execution_count": 1,
   "id": "904999e3",
   "metadata": {},
   "outputs": [
    {
     "name": "stdout",
     "output_type": "stream",
     "text": [
      "Original DataFrame:\n",
      "       Name  Math  Science\n",
      "0    Alice    85       90\n",
      "1      Bob    92       88\n",
      "2  Charlie    78       82 \n",
      "\n"
     ]
    }
   ],
   "source": [
    "import pandas as pd\n",
    "\n",
    "# Wide format (students and their scores)\n",
    "df = pd.DataFrame({\n",
    "    \"Name\": [\"Alice\", \"Bob\", \"Charlie\"],\n",
    "    \"Math\": [85, 92, 78],\n",
    "    \"Science\": [90, 88, 82]\n",
    "})\n",
    "\n",
    "print(\"Original DataFrame:\\n\", df, \"\\n\")\n"
   ]
  },
  {
   "cell_type": "code",
   "execution_count": 2,
   "id": "a0dd6737",
   "metadata": {},
   "outputs": [
    {
     "name": "stdout",
     "output_type": "stream",
     "text": [
      "After melt:\n",
      "       Name  Subject  Score\n",
      "0    Alice     Math     85\n",
      "1      Bob     Math     92\n",
      "2  Charlie     Math     78\n",
      "3    Alice  Science     90\n",
      "4      Bob  Science     88\n",
      "5  Charlie  Science     82\n"
     ]
    }
   ],
   "source": [
    "\n",
    "# Melt the DataFrame\n",
    "melted = pd.melt(df, id_vars=[\"Name\"], var_name=\"Subject\", value_name=\"Score\")\n",
    "\n",
    "print(\"After melt:\\n\", melted)\n"
   ]
  },
  {
   "cell_type": "code",
   "execution_count": 3,
   "id": "56d76ddf",
   "metadata": {},
   "outputs": [
    {
     "name": "stdout",
     "output_type": "stream",
     "text": [
      "With Name as index:\n",
      "          Math  Science\n",
      "Name                  \n",
      "Alice      85       90\n",
      "Bob        92       88\n",
      "Charlie    78       82 \n",
      "\n"
     ]
    }
   ],
   "source": [
    "# Set \"Name\" as index\n",
    "df = df.set_index(\"Name\")\n",
    "print(\"With Name as index:\\n\", df, \"\\n\")\n"
   ]
  },
  {
   "cell_type": "code",
   "execution_count": 4,
   "id": "79dacb30",
   "metadata": {},
   "outputs": [
    {
     "name": "stdout",
     "output_type": "stream",
     "text": [
      "After reset_index:\n",
      "       Name  Math  Science\n",
      "0    Alice    85       90\n",
      "1      Bob    92       88\n",
      "2  Charlie    78       82\n"
     ]
    }
   ],
   "source": [
    "\n",
    "# Reset the index\n",
    "reset_df = df.reset_index()\n",
    "print(\"After reset_index:\\n\", reset_df)\n"
   ]
  },
  {
   "cell_type": "code",
   "execution_count": null,
   "id": "4cc83630",
   "metadata": {},
   "outputs": [],
   "source": [
    "#pd.merge() joins two DataFrames.\n",
    "\n",
    "#left_on and right_on tell pandas which columns to use for matching"
   ]
  },
  {
   "cell_type": "code",
   "execution_count": null,
   "id": "518683bc",
   "metadata": {},
   "outputs": [],
   "source": []
  },
  {
   "cell_type": "code",
   "execution_count": null,
   "id": "7aa7c5fa",
   "metadata": {},
   "outputs": [],
   "source": []
  },
  {
   "cell_type": "code",
   "execution_count": null,
   "id": "36f0cedb",
   "metadata": {},
   "outputs": [],
   "source": []
  },
  {
   "cell_type": "code",
   "execution_count": null,
   "id": "5227c224",
   "metadata": {},
   "outputs": [],
   "source": []
  },
  {
   "cell_type": "code",
   "execution_count": null,
   "id": "7f501962",
   "metadata": {},
   "outputs": [],
   "source": []
  },
  {
   "cell_type": "code",
   "execution_count": null,
   "id": "ff5ea3e2",
   "metadata": {},
   "outputs": [],
   "source": []
  },
  {
   "cell_type": "code",
   "execution_count": null,
   "id": "091c3ea5",
   "metadata": {},
   "outputs": [],
   "source": []
  },
  {
   "cell_type": "code",
   "execution_count": null,
   "id": "61fd61a2",
   "metadata": {},
   "outputs": [],
   "source": []
  },
  {
   "cell_type": "code",
   "execution_count": null,
   "id": "369f19ca",
   "metadata": {},
   "outputs": [],
   "source": []
  },
  {
   "cell_type": "code",
   "execution_count": null,
   "id": "92b3b746",
   "metadata": {},
   "outputs": [],
   "source": []
  },
  {
   "cell_type": "code",
   "execution_count": null,
   "id": "03b49a9e",
   "metadata": {},
   "outputs": [],
   "source": []
  },
  {
   "cell_type": "code",
   "execution_count": null,
   "id": "d6dff81b",
   "metadata": {},
   "outputs": [],
   "source": []
  },
  {
   "cell_type": "code",
   "execution_count": null,
   "id": "fc41ce4e",
   "metadata": {},
   "outputs": [],
   "source": []
  },
  {
   "cell_type": "code",
   "execution_count": null,
   "id": "c4050b73",
   "metadata": {},
   "outputs": [],
   "source": []
  },
  {
   "cell_type": "code",
   "execution_count": null,
   "id": "7927919e",
   "metadata": {},
   "outputs": [],
   "source": []
  }
 ],
 "metadata": {
  "kernelspec": {
   "display_name": "Python 3",
   "language": "python",
   "name": "python3"
  },
  "language_info": {
   "codemirror_mode": {
    "name": "ipython",
    "version": 3
   },
   "file_extension": ".py",
   "mimetype": "text/x-python",
   "name": "python",
   "nbconvert_exporter": "python",
   "pygments_lexer": "ipython3",
   "version": "3.12.1"
  }
 },
 "nbformat": 4,
 "nbformat_minor": 5
}
